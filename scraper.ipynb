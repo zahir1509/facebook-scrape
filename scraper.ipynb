{
 "cells": [
  {
   "cell_type": "code",
   "execution_count": 1,
   "metadata": {},
   "outputs": [
    {
     "name": "stderr",
     "output_type": "stream",
     "text": [
      "c:\\Users\\Zahir\\AppData\\Local\\Programs\\Python\\Python38\\lib\\site-packages\\tqdm\\auto.py:22: TqdmWarning: IProgress not found. Please update jupyter and ipywidgets. See https://ipywidgets.readthedocs.io/en/stable/user_install.html\n",
      "  from .autonotebook import tqdm as notebook_tqdm\n"
     ]
    }
   ],
   "source": [
    "from facebook_scraper import get_posts\n",
    "from facebook_scraper import get_profile\n",
    "import pandas as pd\n"
   ]
  },
  {
   "cell_type": "code",
   "execution_count": 2,
   "metadata": {},
   "outputs": [
    {
     "name": "stderr",
     "output_type": "stream",
     "text": [
      "c:\\Users\\Zahir\\AppData\\Local\\Programs\\Python\\Python38\\lib\\site-packages\\facebook_scraper\\facebook_scraper.py:855: UserWarning: Facebook language detected as en_GB - for best results, set to en_US\n",
      "  warnings.warn(\n",
      "c:\\Users\\Zahir\\AppData\\Local\\Programs\\Python\\Python38\\lib\\site-packages\\facebook_scraper\\facebook_scraper.py:912: UserWarning: Facebook says 'Unsupported Browser'\n",
      "  warnings.warn(f\"Facebook says 'Unsupported Browser'\")\n"
     ]
    },
    {
     "data": {
      "text/plain": [
       "{'Friend_count': None,\n",
       " 'Follower_count': None,\n",
       " 'Following_count': None,\n",
       " 'cover_photo_text': \"Cover Photo: Revenue & Disaster Management Department, Government of Odisha's photo.\",\n",
       " 'cover_photo': 'https://scontent.fdel15-1.fna.fbcdn.net/v/t39.30808-6/278841133_302952675345479_2280101371253392472_n.jpg?stp=cp0_dst-jpg_e15_fr_q65&_nc_cat=101&ccb=1-7&_nc_sid=649c01&efg=eyJpIjoidCJ9&_nc_ohc=JUdcPiMa-NkAX9pjtPY&_nc_ht=scontent.fdel15-1.fna&oh=00_AfDXzB95D7w0XCcR1b7Su2SHIE1SifuklZBz3Xi8QSg_4Q&oe=64F5E674&manual_redirect=1',\n",
       " 'profile_picture': 'https://scontent.fdel15-1.fna.fbcdn.net/v/t39.30808-6/279045248_302952672012146_8918569526235762009_n.jpg?stp=cp0_dst-jpg_e15_fr_q65&_nc_cat=109&ccb=1-7&_nc_sid=f033b4&efg=eyJpIjoidCJ9&_nc_ohc=IufkcBZmxNoAX8635A3&_nc_ht=scontent.fdel15-1.fna&oh=00_AfC-Ey_Ffx5rElRIkQQ3LvoRkTaXvsWbu8do9OLbwuFb5g&oe=64F72B91&manual_redirect=1',\n",
       " 'id': '100068922471248',\n",
       " 'Name': 'Revenue & Disaster Management Department, Government of Odisha',\n",
       " 'Category': 'Government organisation',\n",
       " 'Contact Info': {'Address': 'Secretariat, Bhubaneswar, India, 751001',\n",
       "  'Facebook': '/RevenueDepartmentOdisha'},\n",
       " 'Basic info': 'Date of birth',\n",
       " 'Page transparency\\nSee all': 'See all\\nFacebook is showing information to help you understand the purpose of this Page.\\n498656703675475\\nPage ID\\n27 May 2016\\nCreation date\\nAdmin info\\nThis Page can have multiple admins. They may have permission to post content, comment or send messages as the Page.\\nThis Page is not currently running ads.',\n",
       " 'Life events': ''}"
      ]
     },
     "execution_count": 2,
     "metadata": {},
     "output_type": "execute_result"
    }
   ],
   "source": [
    "get_profile(\"RevenueDepartmentOdisha\", cookies=\"cookies.txt\")"
   ]
  },
  {
   "cell_type": "code",
   "execution_count": 4,
   "metadata": {},
   "outputs": [
    {
     "ename": "TemporarilyBanned",
     "evalue": "You’re Temporarily Blocked",
     "output_type": "error",
     "traceback": [
      "\u001b[1;31m---------------------------------------------------------------------------\u001b[0m",
      "\u001b[1;31mTemporarilyBanned\u001b[0m                         Traceback (most recent call last)",
      "\u001b[1;32mc:\\Users\\Zahir\\Desktop\\Github\\facebook-scrape\\scraper.ipynb Cell 3\u001b[0m in \u001b[0;36m<cell line: 5>\u001b[1;34m()\u001b[0m\n\u001b[0;32m      <a href='vscode-notebook-cell:/c%3A/Users/Zahir/Desktop/Github/facebook-scrape/scraper.ipynb#W2sZmlsZQ%3D%3D?line=1'>2</a>\u001b[0m warnings\u001b[39m.\u001b[39mfilterwarnings(\u001b[39m'\u001b[39m\u001b[39mignore\u001b[39m\u001b[39m'\u001b[39m)\n\u001b[0;32m      <a href='vscode-notebook-cell:/c%3A/Users/Zahir/Desktop/Github/facebook-scrape/scraper.ipynb#W2sZmlsZQ%3D%3D?line=3'>4</a>\u001b[0m listposts \u001b[39m=\u001b[39m []\n\u001b[1;32m----> <a href='vscode-notebook-cell:/c%3A/Users/Zahir/Desktop/Github/facebook-scrape/scraper.ipynb#W2sZmlsZQ%3D%3D?line=4'>5</a>\u001b[0m \u001b[39mfor\u001b[39;00m post \u001b[39min\u001b[39;00m get_posts(\u001b[39m\"\u001b[39m\u001b[39mRevenueDepartmentOdisha\u001b[39m\u001b[39m\"\u001b[39m, pages\u001b[39m=\u001b[39m\u001b[39m1000\u001b[39m):\n\u001b[0;32m      <a href='vscode-notebook-cell:/c%3A/Users/Zahir/Desktop/Github/facebook-scrape/scraper.ipynb#W2sZmlsZQ%3D%3D?line=5'>6</a>\u001b[0m     \u001b[39mprint\u001b[39m(post[\u001b[39m'\u001b[39m\u001b[39mtext\u001b[39m\u001b[39m'\u001b[39m][:\u001b[39m100\u001b[39m])\n\u001b[0;32m      <a href='vscode-notebook-cell:/c%3A/Users/Zahir/Desktop/Github/facebook-scrape/scraper.ipynb#W2sZmlsZQ%3D%3D?line=6'>7</a>\u001b[0m     \u001b[39mprint\u001b[39m(post[\u001b[39m'\u001b[39m\u001b[39mtime\u001b[39m\u001b[39m'\u001b[39m])\n",
      "File \u001b[1;32mc:\\Users\\Zahir\\AppData\\Local\\Programs\\Python\\Python38\\lib\\site-packages\\facebook_scraper\\facebook_scraper.py:1117\u001b[0m, in \u001b[0;36mFacebookScraper._generic_get_posts\u001b[1;34m(self, extract_post_fn, iter_pages_fn, page_limit, options, remove_source, latest_date, max_past_limit, **kwargs)\u001b[0m\n\u001b[0;32m   1115\u001b[0m logger\u001b[39m.\u001b[39mdebug(\u001b[39m\"\u001b[39m\u001b[39mExtracting posts from page \u001b[39m\u001b[39m%s\u001b[39;00m\u001b[39m\"\u001b[39m, i)\n\u001b[0;32m   1116\u001b[0m \u001b[39mfor\u001b[39;00m post_element \u001b[39min\u001b[39;00m page:\n\u001b[1;32m-> 1117\u001b[0m     post \u001b[39m=\u001b[39m extract_post_fn(post_element, options\u001b[39m=\u001b[39;49moptions, request_fn\u001b[39m=\u001b[39;49m\u001b[39mself\u001b[39;49m\u001b[39m.\u001b[39;49mget)\n\u001b[0;32m   1118\u001b[0m     \u001b[39mif\u001b[39;00m remove_source:\n\u001b[0;32m   1119\u001b[0m         post\u001b[39m.\u001b[39mpop(\u001b[39m'\u001b[39m\u001b[39msource\u001b[39m\u001b[39m'\u001b[39m, \u001b[39mNone\u001b[39;00m)\n",
      "File \u001b[1;32mc:\\Users\\Zahir\\AppData\\Local\\Programs\\Python\\Python38\\lib\\site-packages\\facebook_scraper\\extractors.py:33\u001b[0m, in \u001b[0;36mextract_post\u001b[1;34m(raw_post, options, request_fn, full_post_html)\u001b[0m\n\u001b[0;32m     30\u001b[0m \u001b[39mdef\u001b[39;00m \u001b[39mextract_post\u001b[39m(\n\u001b[0;32m     31\u001b[0m     raw_post: RawPost, options: Options, request_fn: RequestFunction, full_post_html\u001b[39m=\u001b[39m\u001b[39mNone\u001b[39;00m\n\u001b[0;32m     32\u001b[0m ) \u001b[39m-\u001b[39m\u001b[39m>\u001b[39m Post:\n\u001b[1;32m---> 33\u001b[0m     \u001b[39mreturn\u001b[39;00m PostExtractor(raw_post, options, request_fn, full_post_html)\u001b[39m.\u001b[39;49mextract_post()\n",
      "File \u001b[1;32mc:\\Users\\Zahir\\AppData\\Local\\Programs\\Python\\Python38\\lib\\site-packages\\facebook_scraper\\extractors.py:193\u001b[0m, in \u001b[0;36mPostExtractor.extract_post\u001b[1;34m(self)\u001b[0m\n\u001b[0;32m    191\u001b[0m \u001b[39mfor\u001b[39;00m method \u001b[39min\u001b[39;00m methods:\n\u001b[0;32m    192\u001b[0m     \u001b[39mtry\u001b[39;00m:\n\u001b[1;32m--> 193\u001b[0m         partial_post \u001b[39m=\u001b[39m method()\n\u001b[0;32m    194\u001b[0m         \u001b[39mif\u001b[39;00m partial_post \u001b[39mis\u001b[39;00m \u001b[39mNone\u001b[39;00m:\n\u001b[0;32m    195\u001b[0m             log_warning(\u001b[39m\"\u001b[39m\u001b[39mExtract method \u001b[39m\u001b[39m%s\u001b[39;00m\u001b[39m didn\u001b[39m\u001b[39m'\u001b[39m\u001b[39mt return anything\u001b[39m\u001b[39m\"\u001b[39m, method\u001b[39m.\u001b[39m\u001b[39m__name__\u001b[39m)\n",
      "File \u001b[1;32mc:\\Users\\Zahir\\AppData\\Local\\Programs\\Python\\Python38\\lib\\site-packages\\facebook_scraper\\extractors.py:947\u001b[0m, in \u001b[0;36mPostExtractor.extract_video_meta\u001b[1;34m(self)\u001b[0m\n\u001b[0;32m    946\u001b[0m \u001b[39mdef\u001b[39;00m \u001b[39mextract_video_meta\u001b[39m(\u001b[39mself\u001b[39m):\n\u001b[1;32m--> 947\u001b[0m     elem \u001b[39m=\u001b[39m \u001b[39mself\u001b[39;49m\u001b[39m.\u001b[39;49mfull_post_html\u001b[39m.\u001b[39mfind(\u001b[39m\"\u001b[39m\u001b[39mscript[type=\u001b[39m\u001b[39m'\u001b[39m\u001b[39mapplication/ld+json\u001b[39m\u001b[39m'\u001b[39m\u001b[39m]\u001b[39m\u001b[39m\"\u001b[39m, first\u001b[39m=\u001b[39m\u001b[39mTrue\u001b[39;00m)\n\u001b[0;32m    948\u001b[0m     \u001b[39mif\u001b[39;00m \u001b[39mnot\u001b[39;00m elem:\n\u001b[0;32m    949\u001b[0m         \u001b[39mreturn\u001b[39;00m \u001b[39mNone\u001b[39;00m\n",
      "File \u001b[1;32mc:\\Users\\Zahir\\AppData\\Local\\Programs\\Python\\Python38\\lib\\site-packages\\facebook_scraper\\extractors.py:1351\u001b[0m, in \u001b[0;36mPostExtractor.full_post_html\u001b[1;34m(self)\u001b[0m\n\u001b[0;32m   1349\u001b[0m logger\u001b[39m.\u001b[39mdebug(\u001b[39mf\u001b[39m\u001b[39m\"\u001b[39m\u001b[39mFetching \u001b[39m\u001b[39m{\u001b[39;00murl\u001b[39m}\u001b[39;00m\u001b[39m\"\u001b[39m)\n\u001b[0;32m   1350\u001b[0m \u001b[39mtry\u001b[39;00m:\n\u001b[1;32m-> 1351\u001b[0m     response \u001b[39m=\u001b[39m \u001b[39mself\u001b[39;49m\u001b[39m.\u001b[39;49mrequest(url)\n\u001b[0;32m   1352\u001b[0m \u001b[39mexcept\u001b[39;00m exceptions\u001b[39m.\u001b[39mNotFound \u001b[39mas\u001b[39;00m e:\n\u001b[0;32m   1353\u001b[0m     url \u001b[39m=\u001b[39m \u001b[39mself\u001b[39m\u001b[39m.\u001b[39mpost\u001b[39m.\u001b[39mget(\u001b[39m'\u001b[39m\u001b[39mpost_url\u001b[39m\u001b[39m'\u001b[39m)\u001b[39m.\u001b[39mreplace(FB_BASE_URL, FB_MOBILE_BASE_URL)\n",
      "File \u001b[1;32mc:\\Users\\Zahir\\AppData\\Local\\Programs\\Python\\Python38\\lib\\site-packages\\facebook_scraper\\facebook_scraper.py:929\u001b[0m, in \u001b[0;36mFacebookScraper.get\u001b[1;34m(self, url, **kwargs)\u001b[0m\n\u001b[0;32m    927\u001b[0m     \u001b[39mraise\u001b[39;00m exceptions\u001b[39m.\u001b[39mUnexpectedResponse(\u001b[39m\"\u001b[39m\u001b[39mYour request couldn\u001b[39m\u001b[39m'\u001b[39m\u001b[39mt be processed\u001b[39m\u001b[39m\"\u001b[39m)\n\u001b[0;32m    928\u001b[0m \u001b[39melif\u001b[39;00m title\u001b[39m.\u001b[39mtext\u001b[39m.\u001b[39mlower() \u001b[39min\u001b[39;00m temp_ban_titles:\n\u001b[1;32m--> 929\u001b[0m     \u001b[39mraise\u001b[39;00m exceptions\u001b[39m.\u001b[39mTemporarilyBanned(title\u001b[39m.\u001b[39mtext)\n\u001b[0;32m    930\u001b[0m \u001b[39melif\u001b[39;00m \u001b[39m\"\u001b[39m\u001b[39m>your account has been disabled<\u001b[39m\u001b[39m\"\u001b[39m \u001b[39min\u001b[39;00m response\u001b[39m.\u001b[39mhtml\u001b[39m.\u001b[39mhtml\u001b[39m.\u001b[39mlower():\n\u001b[0;32m    931\u001b[0m     \u001b[39mraise\u001b[39;00m exceptions\u001b[39m.\u001b[39mAccountDisabled(\u001b[39m\"\u001b[39m\u001b[39mYour Account Has Been Disabled\u001b[39m\u001b[39m\"\u001b[39m)\n",
      "\u001b[1;31mTemporarilyBanned\u001b[0m: You’re Temporarily Blocked"
     ]
    }
   ],
   "source": [
    "import warnings\n",
    "warnings.filterwarnings('ignore')\n",
    "\n",
    "listposts = []\n",
    "for post in get_posts(\"RevenueDepartmentOdisha\", pages=1000):\n",
    "    print(post['text'][:100])\n",
    "    print(post['time'])\n",
    "    listposts.append(post)\n",
    "    df = pd.DataFrame(listposts)\n",
    "    df.to_excel('output.xlsx', index=False)\n",
    "    "
   ]
  }
 ],
 "metadata": {
  "kernelspec": {
   "display_name": "Python 3",
   "language": "python",
   "name": "python3"
  },
  "language_info": {
   "codemirror_mode": {
    "name": "ipython",
    "version": 3
   },
   "file_extension": ".py",
   "mimetype": "text/x-python",
   "name": "python",
   "nbconvert_exporter": "python",
   "pygments_lexer": "ipython3",
   "version": "3.8.4"
  },
  "orig_nbformat": 4
 },
 "nbformat": 4,
 "nbformat_minor": 2
}
