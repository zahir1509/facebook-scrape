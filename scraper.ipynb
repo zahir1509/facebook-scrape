{
 "cells": [
  {
   "cell_type": "code",
   "execution_count": 1,
   "metadata": {},
   "outputs": [
    {
     "name": "stderr",
     "output_type": "stream",
     "text": [
      "c:\\Users\\Zahir\\AppData\\Local\\Programs\\Python\\Python38\\lib\\site-packages\\tqdm\\auto.py:22: TqdmWarning: IProgress not found. Please update jupyter and ipywidgets. See https://ipywidgets.readthedocs.io/en/stable/user_install.html\n",
      "  from .autonotebook import tqdm as notebook_tqdm\n"
     ]
    }
   ],
   "source": [
    "from facebook_scraper import get_posts\n",
    "from facebook_scraper import get_profile\n",
    "import pandas as pd\n"
   ]
  },
  {
   "cell_type": "code",
   "execution_count": 2,
   "metadata": {},
   "outputs": [
    {
     "name": "stderr",
     "output_type": "stream",
     "text": [
      "c:\\Users\\Zahir\\AppData\\Local\\Programs\\Python\\Python38\\lib\\site-packages\\facebook_scraper\\facebook_scraper.py:855: UserWarning: Facebook language detected as en_GB - for best results, set to en_US\n",
      "  warnings.warn(\n",
      "c:\\Users\\Zahir\\AppData\\Local\\Programs\\Python\\Python38\\lib\\site-packages\\facebook_scraper\\facebook_scraper.py:912: UserWarning: Facebook says 'Unsupported Browser'\n",
      "  warnings.warn(f\"Facebook says 'Unsupported Browser'\")\n"
     ]
    },
    {
     "data": {
      "text/plain": [
       "{'top_post': {'post_id': '624779936496083',\n",
       "  'text': \"CCMS version 2.0 under #5T has been commissioned by Hon'ble Member, BoR today and it will enable a petitioner to file a Revision Case online. CMO Odisha\",\n",
       "  'post_text': \"CCMS version 2.0 under #5T has been commissioned by Hon'ble Member, BoR today and it will enable a petitioner to file a Revision Case online. CMO Odisha\",\n",
       "  'shared_text': '',\n",
       "  'original_text': None,\n",
       "  'time': datetime.datetime(2023, 7, 4, 19, 45, 45),\n",
       "  'timestamp': 1688480145,\n",
       "  'image': 'https://scontent.fdel15-1.fna.fbcdn.net/v/t39.30808-6/357757111_624779749829435_7755935541270000724_n.jpg?stp=cp0_dst-jpg_e15_fr_q65&_nc_cat=104&ccb=1-7&_nc_sid=3fb9c2&efg=eyJpIjoidCJ9&_nc_ohc=VfRQvk8QE7sAX9M2VnT&_nc_ht=scontent.fdel15-1.fna&oh=00_AfAGP_ZOXbvqhDs8QmVQakm0iJ5fsvyzFgCzz9HZ2anegQ&oe=64F74315&manual_redirect=1',\n",
       "  'image_lowquality': 'https://scontent.fdel15-1.fna.fbcdn.net/v/t39.30808-6/357757111_624779749829435_7755935541270000724_n.jpg?stp=cp0_dst-jpg_e15_p160x160_q65&_nc_cat=104&ccb=1-7&_nc_sid=3fb9c2&efg=eyJpIjoidCJ9&_nc_ohc=VfRQvk8QE7sAX9M2VnT&_nc_ht=scontent.fdel15-1.fna&oh=00_AfCqdQgDVjWAY1nfYWgjmslO6fhQ09Ms-o1u0IbTt_cVlA&oe=64F74315',\n",
       "  'images': ['https://scontent.fdel15-1.fna.fbcdn.net/v/t39.30808-6/357757111_624779749829435_7755935541270000724_n.jpg?stp=cp0_dst-jpg_e15_fr_q65&_nc_cat=104&ccb=1-7&_nc_sid=3fb9c2&efg=eyJpIjoidCJ9&_nc_ohc=VfRQvk8QE7sAX9M2VnT&_nc_ht=scontent.fdel15-1.fna&oh=00_AfAGP_ZOXbvqhDs8QmVQakm0iJ5fsvyzFgCzz9HZ2anegQ&oe=64F74315&manual_redirect=1',\n",
       "   'https://scontent.fdel15-1.fna.fbcdn.net/v/t39.30808-6/358024205_624779903162753_8770982434197310787_n.jpg?stp=cp0_dst-jpg_e15_fr_q65&_nc_cat=106&ccb=1-7&_nc_sid=3fb9c2&efg=eyJpIjoidCJ9&_nc_ohc=UaAUA1DpKPMAX8a_7I8&_nc_ht=scontent.fdel15-1.fna&oh=00_AfDhNZHt0ShMDUM6WXO-Y8cM2_jNJAOMkmgQUvb2x6kb9Q&oe=64F6DDDB&manual_redirect=1'],\n",
       "  'images_description': ['May be an image of 1 person and text that says \"5 TRANSPARENCY TEAMWORK TRANSFORMATION ககவા CP রাতরি A आडिशा शासन Version 2.0 Launching of Court Case Monitoring System CCMS by SRI RAJ KUMAR SHARMA, IAS, Hon\\'ble Member Board of Revenue Odisha, Cuttack. www.ccms.nic.in\"',\n",
       "   'May be an image of 12 people, dais and text'],\n",
       "  'images_lowquality': ['https://scontent.fdel15-1.fna.fbcdn.net/v/t39.30808-6/357757111_624779749829435_7755935541270000724_n.jpg?stp=cp0_dst-jpg_e15_p160x160_q65&_nc_cat=104&ccb=1-7&_nc_sid=3fb9c2&efg=eyJpIjoidCJ9&_nc_ohc=VfRQvk8QE7sAX9M2VnT&_nc_ht=scontent.fdel15-1.fna&oh=00_AfCqdQgDVjWAY1nfYWgjmslO6fhQ09Ms-o1u0IbTt_cVlA&oe=64F74315',\n",
       "   'https://scontent.fdel15-1.fna.fbcdn.net/v/t39.30808-6/358024205_624779903162753_8770982434197310787_n.jpg?stp=cp0_dst-jpg_e15_p160x160_q65&_nc_cat=106&ccb=1-7&_nc_sid=3fb9c2&efg=eyJpIjoidCJ9&_nc_ohc=UaAUA1DpKPMAX8a_7I8&_nc_ht=scontent.fdel15-1.fna&oh=00_AfBaF1smvLERHfWaczyX-LN6ZzgjP8bHDebcIjEmA1LEjg&oe=64F6DDDB'],\n",
       "  'images_lowquality_description': ['May be an image of 1 person and text that says \"5 TRANSPARENCY TEAMWORK TRANSFORMATION ககவા CP রাতরি A आडिशा शासन Version 2.0 Launching of Court Case Monitoring System CCMS by SRI RAJ KUMAR SHARMA, IAS, Hon\\'ble Member Board of Revenue Odisha, Cuttack. www.ccms.nic.in\"',\n",
       "   'May be an image of 12 people, dais and text'],\n",
       "  'video': None,\n",
       "  'video_duration_seconds': None,\n",
       "  'video_height': None,\n",
       "  'video_id': None,\n",
       "  'video_quality': None,\n",
       "  'video_size_MB': None,\n",
       "  'video_thumbnail': None,\n",
       "  'video_watches': None,\n",
       "  'video_width': None,\n",
       "  'likes': 26,\n",
       "  'comments': 0,\n",
       "  'shares': 4,\n",
       "  'post_url': 'https://facebook.com/story.php?story_fbid=pfbid0bo64t62KxYzLXQo6a7XQJxJfuY892rnUKB6aeN6V6xkvwBbkkKwaENyzwk2fHgeLl&id=100068922471248',\n",
       "  'link': None,\n",
       "  'links': [{'link': '/hashtag/5t?refid=17&_ft_=encrypted_tracking_data.0AY-LsHsoXnYld3ES8K5V5Ny2QklT17eE_YHgmCymf-yGNWda0QpwPxIxKViWUvAn_cUbieLfZNAWGBkARgTn4nitt_hdvOy6oZXNhflyJvLfpd-O9E5VxPJp-48bTJInnCU5Y4PCEFSGwf_B5-tQzE2aYJHuGwgmHNPzkaN4LHQlJp6M2ssfU09eenoWBI6xk_hYyE9_3QoB9c0DMxPCxfihiWabrHOHQ4d7EnN5qrfbVV0JOYAILnH2VKdJvBKJ2sLv_ia3QeGy34UDBNJY0HqZXW_A-k_Z_h_okbYcnikAVjUNJpndxYWPVvBxCHbBcQCMua4fLK-Puulg3GmguOP0gKCDvaTb-3LDfCspdQFo0pm4IyJw6rC4WEWxcgn5z7DMGY7yhJFcb-NipY2YrQDHxUayhQGy4rW9Y4dUn2e1ynSOVBNG4Pym3N4Ch87w8pb0KmrI7ZvZeci7iQVTpM5242k0NYDJlmqz9yUdNBPPT-kjv8zvtAowahGSZx23sV-gFvB0-A19iweT5hfNm7EpwHZfKTA2exH8LsB700Hwvi_181yvxVSAIvGYzMejiW-4_PF-0p-0M7FJaD6rMd3XFRirLw3ztOOb_kwDcZs8pFUz2hoINfeICcSNSHReiu4LdjNhybV-ehHBb9KWuD59GUSK6q2P4-AaiUI635aMNSSI2EC_5srGd0oyPbmFvNUWky2-3lka7cAcKab2FUGsq65rGJXythf_M1t18qYZPUgPrqn8T7EK11V-22SmkpfbHNERB455Iy5She7d1TCR0gc-xsqfID7ddLET9HuQ919iHTAM0bBmNbwk4Rel9T66JPQFvFkTI6Hp5sUFv1RztEznAhgCyqZxOzO2mzkKmXoYh81161FkfBVPxp_gw8imOY15qPEgBp7P8hamhmqN-1nOZhWVsTW7EVwu8OrP6QIcG4ngJRwyuM8Y5DM1etK9r-fletcQYs0Y_w87C_b7UPGeIvRpi9BIc-QTy8E-tnRbn84Mi8tf_mFMtCXsoKtvp4vwjOktL2_rKUB5Wl6A4UvLZdMM0nZKE53tlArWWqouu06tklWFnUDD9osPsMPIMXgmbe7WwEZRnYaUEnRrB4E1aSAohJeazP5b3wBJgE9KlgWpMJARIa87E9Fb0N5Jxq_ohRQg8hv1D64yaCr3JycKINTpzx_GFyFsUqi36fgL8V1yJxaouRTFMxi0rh2owpKI8BGkKQ_xWeCvMViMaCB78BINFQ2uFj5Iw_QbMUd18qFayqKFXWBxfOtVRlLlk4nfAHK5BVDLl_k0ud4awzcha_9oyNdXQmjBbkumXai5aPO1m2mK8zKpnAgErvDtyZWvHRn-34skZdzhWs_QLon-CE6Ob2R0m3uAq63YLhUjdAcu_CZAz-W3Jvcz2dqCQAwdXJyvXL6NTDQze2ZpS7_zGvSlv8n2EnMaCAU6-8PBYBAq7lwb87EZfOwFrjUU5yiFTMe_YLd2VwggZNq2iWOlJeJhWhJnUr1LT3n68UIMXoF0P1FtNJlfqOQ1BNo-B4pvieMnZUN9yCdrwMxP1cOC5GGIE78-SPHjp6_atjOagVh3fk6EHenjQhvIGkN9ZCO5rRKzwT2jxHMArYFH81j9f5DBToBo82fbtAy_wE9shxKLZFN8VLRiS0iLUs-_WOwgodqOKE_vudQWNCXrN_0kRMXdu0GrhAxwkO-bsd8ussFSRJLoOvn9DDmVZXaP3FOEoGMKScOnfmDN3im5dmisf065BaeHJc85T35OgPBxx8t4proQZdnBoGpTkCDzRjTe11LthtTtuWjtxA&__tn__=%2As-R&paipv=0&eav=Afbzlv76puPgDeqvUx3Qo6b-0YpvFEtNF29-bi7AGu4o417hkQZu_626GOBZQy-lumA',\n",
       "    'text': '#5T'},\n",
       "   {'link': '/CMO.Odisha?eav=Afah9PsthqWS9_AQkgY4hEwNN5LeJy-\\\\-\\\\rTVMh-g2eiNdoHstySOgRb0sLZuB_BapjJA&refid=17&_ft_=encrypted_tracking_data.0AY-LsHsoXnYld3ES8K5V5Ny2QklT17eE_YHgmCymf-yGNWda0QpwPxIxKViWUvAn_cUbieLfZNAWGBkARgTn4nitt_hdvOy6oZXNhflyJvLfpd-O9E5VxPJp-48bTJInnCU5Y4PCEFSGwf_B5-tQzE2aYJHuGwgmHNPzkaN4LHQlJp6M2ssfU09eenoWBI6xk_hYyE9_3QoB9c0DMxPCxfihiWabrHOHQ4d7EnN5qrfbVV0JOYAILnH2VKdJvBKJ2sLv_ia3QeGy34UDBNJY0HqZXW_A-k_Z_h_okbYcnikAVjUNJpndxYWPVvBxCHbBcQCMua4fLK-Puulg3GmguOP0gKCDvaTb-3LDfCspdQFo0pm4IyJw6rC4WEWxcgn5z7DMGY7yhJFcb-NipY2YrQDHxUayhQGy4rW9Y4dUn2e1ynSOVBNG4Pym3N4Ch87w8pb0KmrI7ZvZeci7iQVTpM5242k0NYDJlmqz9yUdNBPPT-kjv8zvtAowahGSZx23sV-gFvB0-A19iweT5hfNm7EpwHZfKTA2exH8LsB700Hwvi_181yvxVSAIvGYzMejiW-4_PF-0p-0M7FJaD6rMd3XFRirLw3ztOOb_kwDcZs8pFUz2hoINfeICcSNSHReiu4LdjNhybV-ehHBb9KWuD59GUSK6q2P4-AaiUI635aMNSSI2EC_5srGd0oyPbmFvNUWky2-3lka7cAcKab2FUGsq65rGJXythf_M1t18qYZPUgPrqn8T7EK11V-22SmkpfbHNERB455Iy5She7d1TCR0gc-xsqfID7ddLET9HuQ919iHTAM0bBmNbwk4Rel9T66JPQFvFkTI6Hp5sUFv1RztEznAhgCyqZxOzO2mzkKmXoYh81161FkfBVPxp_gw8imOY15qPEgBp7P8hamhmqN-1nOZhWVsTW7EVwu8OrP6QIcG4ngJRwyuM8Y5DM1etK9r-fletcQYs0Y_w87C_b7UPGeIvRpi9BIc-QTy8E-tnRbn84Mi8tf_mFMtCXsoKtvp4vwjOktL2_rKUB5Wl6A4UvLZdMM0nZKE53tlArWWqouu06tklWFnUDD9osPsMPIMXgmbe7WwEZRnYaUEnRrB4E1aSAohJeazP5b3wBJgE9KlgWpMJARIa87E9Fb0N5Jxq_ohRQg8hv1D64yaCr3JycKINTpzx_GFyFsUqi36fgL8V1yJxaouRTFMxi0rh2owpKI8BGkKQ_xWeCvMViMaCB78BINFQ2uFj5Iw_QbMUd18qFayqKFXWBxfOtVRlLlk4nfAHK5BVDLl_k0ud4awzcha_9oyNdXQmjBbkumXai5aPO1m2mK8zKpnAgErvDtyZWvHRn-34skZdzhWs_QLon-CE6Ob2R0m3uAq63YLhUjdAcu_CZAz-W3Jvcz2dqCQAwdXJyvXL6NTDQze2ZpS7_zGvSlv8n2EnMaCAU6-8PBYBAq7lwb87EZfOwFrjUU5yiFTMe_YLd2VwggZNq2iWOlJeJhWhJnUr1LT3n68UIMXoF0P1FtNJlfqOQ1BNo-B4pvieMnZUN9yCdrwMxP1cOC5GGIE78-SPHjp6_atjOagVh3fk6EHenjQhvIGkN9ZCO5rRKzwT2jxHMArYFH81j9f5DBToBo82fbtAy_wE9shxKLZFN8VLRiS0iLUs-_WOwgodqOKE_vudQWNCXrN_0kRMXdu0GrhAxwkO-bsd8ussFSRJLoOvn9DDmVZXaP3FOEoGMKScOnfmDN3im5dmisf065BaeHJc85T35OgPBxx8t4proQZdnBoGpTkCDzRjTe11LthtTtuWjtxA&__tn__=%2As-R&paipv=0',\n",
       "    'text': 'CMO Odisha'},\n",
       "   {'link': '/story.php?story_fbid=pfbid0bo64t62KxYzLXQo6a7XQJxJfuY892rnUKB6aeN6V6xkvwBbkkKwaENyzwk2fHgeLl&id=100068922471248&eav=AfZzBAC97KBQLCNkv6FvXrWl45VjgveHOvJJULSxBaUpc6aNIOwXkifFcthbdBoBick&m_entstream_source=timeline&refid=17&_ft_=encrypted_tracking_data.0AY-LsHsoXnYld3ES8K5V5Ny2QklT17eE_YHgmCymf-yGNWda0QpwPxIxKViWUvAn_cUbieLfZNAWGBkARgTn4nitt_hdvOy6oZXNhflyJvLfpd-O9E5VxPJp-48bTJInnCU5Y4PCEFSGwf_B5-tQzE2aYJHuGwgmHNPzkaN4LHQlJp6M2ssfU09eenoWBI6xk_hYyE9_3QoB9c0DMxPCxfihiWabrHOHQ4d7EnN5qrfbVV0JOYAILnH2VKdJvBKJ2sLv_ia3QeGy34UDBNJY0HqZXW_A-k_Z_h_okbYcnikAVjUNJpndxYWPVvBxCHbBcQCMua4fLK-Puulg3GmguOP0gKCDvaTb-3LDfCspdQFo0pm4IyJw6rC4WEWxcgn5z7DMGY7yhJFcb-NipY2YrQDHxUayhQGy4rW9Y4dUn2e1ynSOVBNG4Pym3N4Ch87w8pb0KmrI7ZvZeci7iQVTpM5242k0NYDJlmqz9yUdNBPPT-kjv8zvtAowahGSZx23sV-gFvB0-A19iweT5hfNm7EpwHZfKTA2exH8LsB700Hwvi_181yvxVSAIvGYzMejiW-4_PF-0p-0M7FJaD6rMd3XFRirLw3ztOOb_kwDcZs8pFUz2hoINfeICcSNSHReiu4LdjNhybV-ehHBb9KWuD59GUSK6q2P4-AaiUI635aMNSSI2EC_5srGd0oyPbmFvNUWky2-3lka7cAcKab2FUGsq65rGJXythf_M1t18qYZPUgPrqn8T7EK11V-22SmkpfbHNERB455Iy5She7d1TCR0gc-xsqfID7ddLET9HuQ919iHTAM0bBmNbwk4Rel9T66JPQFvFkTI6Hp5sUFv1RztEznAhgCyqZxOzO2mzkKmXoYh81161FkfBVPxp_gw8imOY15qPEgBp7P8hamhmqN-1nOZhWVsTW7EVwu8OrP6QIcG4ngJRwyuM8Y5DM1etK9r-fletcQYs0Y_w87C_b7UPGeIvRpi9BIc-QTy8E-tnRbn84Mi8tf_mFMtCXsoKtvp4vwjOktL2_rKUB5Wl6A4UvLZdMM0nZKE53tlArWWqouu06tklWFnUDD9osPsMPIMXgmbe7WwEZRnYaUEnRrB4E1aSAohJeazP5b3wBJgE9KlgWpMJARIa87E9Fb0N5Jxq_ohRQg8hv1D64yaCr3JycKINTpzx_GFyFsUqi36fgL8V1yJxaouRTFMxi0rh2owpKI8BGkKQ_xWeCvMViMaCB78BINFQ2uFj5Iw_QbMUd18qFayqKFXWBxfOtVRlLlk4nfAHK5BVDLl_k0ud4awzcha_9oyNdXQmjBbkumXai5aPO1m2mK8zKpnAgErvDtyZWvHRn-34skZdzhWs_QLon-CE6Ob2R0m3uAq63YLhUjdAcu_CZAz-W3Jvcz2dqCQAwdXJyvXL6NTDQze2ZpS7_zGvSlv8n2EnMaCAU6-8PBYBAq7lwb87EZfOwFrjUU5yiFTMe_YLd2VwggZNq2iWOlJeJhWhJnUr1LT3n68UIMXoF0P1FtNJlfqOQ1BNo-B4pvieMnZUN9yCdrwMxP1cOC5GGIE78-SPHjp6_atjOagVh3fk6EHenjQhvIGkN9ZCO5rRKzwT2jxHMArYFH81j9f5DBToBo82fbtAy_wE9shxKLZFN8VLRiS0iLUs-_WOwgodqOKE_vudQWNCXrN_0kRMXdu0GrhAxwkO-bsd8ussFSRJLoOvn9DDmVZXaP3FOEoGMKScOnfmDN3im5dmisf065BaeHJc85T35OgPBxx8t4proQZdnBoGpTkCDzRjTe11LthtTtuWjtxA&__tn__=%2As%2As-R&paipv=0',\n",
       "    'text': ''},\n",
       "   {'link': '/photos/viewer/?photoset_token=pcb.624779936496083&photo=624779753162768&profileid=100001996874051&eav=AfZTfckI3hRLO4zUymk9rXgAidH5d5lLBV0ZCGPYOapLV62R10f17K0gHeXNLidi6Ic&paipv=0&source=49&refid=17&_ft_=encrypted_tracking_data.0AY-LsHsoXnYld3ES8K5V5Ny2QklT17eE_YHgmCymf-yGNWda0QpwPxIxKViWUvAn_cUbieLfZNAWGBkARgTn4nitt_hdvOy6oZXNhflyJvLfpd-O9E5VxPJp-48bTJInnCU5Y4PCEFSGwf_B5-tQzE2aYJHuGwgmHNPzkaN4LHQlJp6M2ssfU09eenoWBI6xk_hYyE9_3QoB9c0DMxPCxfihiWabrHOHQ4d7EnN5qrfbVV0JOYAILnH2VKdJvBKJ2sLv_ia3QeGy34UDBNJY0HqZXW_A-k_Z_h_okbYcnikAVjUNJpndxYWPVvBxCHbBcQCMua4fLK-Puulg3GmguOP0gKCDvaTb-3LDfCspdQFo0pm4IyJw6rC4WEWxcgn5z7DMGY7yhJFcb-NipY2YrQDHxUayhQGy4rW9Y4dUn2e1ynSOVBNG4Pym3N4Ch87w8pb0KmrI7ZvZeci7iQVTpM5242k0NYDJlmqz9yUdNBPPT-kjv8zvtAowahGSZx23sV-gFvB0-A19iweT5hfNm7EpwHZfKTA2exH8LsB700Hwvi_181yvxVSAIvGYzMejiW-4_PF-0p-0M7FJaD6rMd3XFRirLw3ztOOb_kwDcZs8pFUz2hoINfeICcSNSHReiu4LdjNhybV-ehHBb9KWuD59GUSK6q2P4-AaiUI635aMNSSI2EC_5srGd0oyPbmFvNUWky2-3lka7cAcKab2FUGsq65rGJXythf_M1t18qYZPUgPrqn8T7EK11V-22SmkpfbHNERB455Iy5She7d1TCR0gc-xsqfID7ddLET9HuQ919iHTAM0bBmNbwk4Rel9T66JPQFvFkTI6Hp5sUFv1RztEznAhgCyqZxOzO2mzkKmXoYh81161FkfBVPxp_gw8imOY15qPEgBp7P8hamhmqN-1nOZhWVsTW7EVwu8OrP6QIcG4ngJRwyuM8Y5DM1etK9r-fletcQYs0Y_w87C_b7UPGeIvRpi9BIc-QTy8E-tnRbn84Mi8tf_mFMtCXsoKtvp4vwjOktL2_rKUB5Wl6A4UvLZdMM0nZKE53tlArWWqouu06tklWFnUDD9osPsMPIMXgmbe7WwEZRnYaUEnRrB4E1aSAohJeazP5b3wBJgE9KlgWpMJARIa87E9Fb0N5Jxq_ohRQg8hv1D64yaCr3JycKINTpzx_GFyFsUqi36fgL8V1yJxaouRTFMxi0rh2owpKI8BGkKQ_xWeCvMViMaCB78BINFQ2uFj5Iw_QbMUd18qFayqKFXWBxfOtVRlLlk4nfAHK5BVDLl_k0ud4awzcha_9oyNdXQmjBbkumXai5aPO1m2mK8zKpnAgErvDtyZWvHRn-34skZdzhWs_QLon-CE6Ob2R0m3uAq63YLhUjdAcu_CZAz-W3Jvcz2dqCQAwdXJyvXL6NTDQze2ZpS7_zGvSlv8n2EnMaCAU6-8PBYBAq7lwb87EZfOwFrjUU5yiFTMe_YLd2VwggZNq2iWOlJeJhWhJnUr1LT3n68UIMXoF0P1FtNJlfqOQ1BNo-B4pvieMnZUN9yCdrwMxP1cOC5GGIE78-SPHjp6_atjOagVh3fk6EHenjQhvIGkN9ZCO5rRKzwT2jxHMArYFH81j9f5DBToBo82fbtAy_wE9shxKLZFN8VLRiS0iLUs-_WOwgodqOKE_vudQWNCXrN_0kRMXdu0GrhAxwkO-bsd8ussFSRJLoOvn9DDmVZXaP3FOEoGMKScOnfmDN3im5dmisf065BaeHJc85T35OgPBxx8t4proQZdnBoGpTkCDzRjTe11LthtTtuWjtxA&__tn__=EH-R',\n",
       "    'text': ''},\n",
       "   {'link': '/photos/viewer/?photoset_token=pcb.624779936496083&photo=624779906496086&profileid=100001996874051&eav=AfbW8NqT_Ctpuga0Dvph95RLY_uvQV2yeNTqWHW61dndy2AMB2r60bYtPSJzgPSvM6U&paipv=0&source=49&refid=17&_ft_=encrypted_tracking_data.0AY-LsHsoXnYld3ES8K5V5Ny2QklT17eE_YHgmCymf-yGNWda0QpwPxIxKViWUvAn_cUbieLfZNAWGBkARgTn4nitt_hdvOy6oZXNhflyJvLfpd-O9E5VxPJp-48bTJInnCU5Y4PCEFSGwf_B5-tQzE2aYJHuGwgmHNPzkaN4LHQlJp6M2ssfU09eenoWBI6xk_hYyE9_3QoB9c0DMxPCxfihiWabrHOHQ4d7EnN5qrfbVV0JOYAILnH2VKdJvBKJ2sLv_ia3QeGy34UDBNJY0HqZXW_A-k_Z_h_okbYcnikAVjUNJpndxYWPVvBxCHbBcQCMua4fLK-Puulg3GmguOP0gKCDvaTb-3LDfCspdQFo0pm4IyJw6rC4WEWxcgn5z7DMGY7yhJFcb-NipY2YrQDHxUayhQGy4rW9Y4dUn2e1ynSOVBNG4Pym3N4Ch87w8pb0KmrI7ZvZeci7iQVTpM5242k0NYDJlmqz9yUdNBPPT-kjv8zvtAowahGSZx23sV-gFvB0-A19iweT5hfNm7EpwHZfKTA2exH8LsB700Hwvi_181yvxVSAIvGYzMejiW-4_PF-0p-0M7FJaD6rMd3XFRirLw3ztOOb_kwDcZs8pFUz2hoINfeICcSNSHReiu4LdjNhybV-ehHBb9KWuD59GUSK6q2P4-AaiUI635aMNSSI2EC_5srGd0oyPbmFvNUWky2-3lka7cAcKab2FUGsq65rGJXythf_M1t18qYZPUgPrqn8T7EK11V-22SmkpfbHNERB455Iy5She7d1TCR0gc-xsqfID7ddLET9HuQ919iHTAM0bBmNbwk4Rel9T66JPQFvFkTI6Hp5sUFv1RztEznAhgCyqZxOzO2mzkKmXoYh81161FkfBVPxp_gw8imOY15qPEgBp7P8hamhmqN-1nOZhWVsTW7EVwu8OrP6QIcG4ngJRwyuM8Y5DM1etK9r-fletcQYs0Y_w87C_b7UPGeIvRpi9BIc-QTy8E-tnRbn84Mi8tf_mFMtCXsoKtvp4vwjOktL2_rKUB5Wl6A4UvLZdMM0nZKE53tlArWWqouu06tklWFnUDD9osPsMPIMXgmbe7WwEZRnYaUEnRrB4E1aSAohJeazP5b3wBJgE9KlgWpMJARIa87E9Fb0N5Jxq_ohRQg8hv1D64yaCr3JycKINTpzx_GFyFsUqi36fgL8V1yJxaouRTFMxi0rh2owpKI8BGkKQ_xWeCvMViMaCB78BINFQ2uFj5Iw_QbMUd18qFayqKFXWBxfOtVRlLlk4nfAHK5BVDLl_k0ud4awzcha_9oyNdXQmjBbkumXai5aPO1m2mK8zKpnAgErvDtyZWvHRn-34skZdzhWs_QLon-CE6Ob2R0m3uAq63YLhUjdAcu_CZAz-W3Jvcz2dqCQAwdXJyvXL6NTDQze2ZpS7_zGvSlv8n2EnMaCAU6-8PBYBAq7lwb87EZfOwFrjUU5yiFTMe_YLd2VwggZNq2iWOlJeJhWhJnUr1LT3n68UIMXoF0P1FtNJlfqOQ1BNo-B4pvieMnZUN9yCdrwMxP1cOC5GGIE78-SPHjp6_atjOagVh3fk6EHenjQhvIGkN9ZCO5rRKzwT2jxHMArYFH81j9f5DBToBo82fbtAy_wE9shxKLZFN8VLRiS0iLUs-_WOwgodqOKE_vudQWNCXrN_0kRMXdu0GrhAxwkO-bsd8ussFSRJLoOvn9DDmVZXaP3FOEoGMKScOnfmDN3im5dmisf065BaeHJc85T35OgPBxx8t4proQZdnBoGpTkCDzRjTe11LthtTtuWjtxA&__tn__=EH-R',\n",
       "    'text': ''}],\n",
       "  'user_id': '100068922471248',\n",
       "  'username': 'Revenue & Disaster Management Department, Government of Odisha',\n",
       "  'user_url': 'https://facebook.com/RevenueDepartmentOdisha?lst=100001996874051%3A100068922471248%3A1693563097&eav=Afaxheuxvm62wnLXBB55WsbqVrtg-QKOpUZ9ZWyxFEsesENmZFTwgymTmIuC2awNZWk&refid=17&_ft_=encrypted_tracking_data.0AY-LsHsoXnYld3ES8K5V5Ny2QklT17eE_YHgmCymf-yGNWda0QpwPxIxKViWUvAn_cUbieLfZNAWGBkARgTn4nitt_hdvOy6oZXNhflyJvLfpd-O9E5VxPJp-48bTJInnCU5Y4PCEFSGwf_B5-tQzE2aYJHuGwgmHNPzkaN4LHQlJp6M2ssfU09eenoWBI6xk_hYyE9_3QoB9c0DMxPCxfihiWabrHOHQ4d7EnN5qrfbVV0JOYAILnH2VKdJvBKJ2sLv_ia3QeGy34UDBNJY0HqZXW_A-k_Z_h_okbYcnikAVjUNJpndxYWPVvBxCHbBcQCMua4fLK-Puulg3GmguOP0gKCDvaTb-3LDfCspdQFo0pm4IyJw6rC4WEWxcgn5z7DMGY7yhJFcb-NipY2YrQDHxUayhQGy4rW9Y4dUn2e1ynSOVBNG4Pym3N4Ch87w8pb0KmrI7ZvZeci7iQVTpM5242k0NYDJlmqz9yUdNBPPT-kjv8zvtAowahGSZx23sV-gFvB0-A19iweT5hfNm7EpwHZfKTA2exH8LsB700Hwvi_181yvxVSAIvGYzMejiW-4_PF-0p-0M7FJaD6rMd3XFRirLw3ztOOb_kwDcZs8pFUz2hoINfeICcSNSHReiu4LdjNhybV-ehHBb9KWuD59GUSK6q2P4-AaiUI635aMNSSI2EC_5srGd0oyPbmFvNUWky2-3lka7cAcKab2FUGsq65rGJXythf_M1t18qYZPUgPrqn8T7EK11V-22SmkpfbHNERB455Iy5She7d1TCR0gc-xsqfID7ddLET9HuQ919iHTAM0bBmNbwk4Rel9T66JPQFvFkTI6Hp5sUFv1RztEznAhgCyqZxOzO2mzkKmXoYh81161FkfBVPxp_gw8imOY15qPEgBp7P8hamhmqN-1nOZhWVsTW7EVwu8OrP6QIcG4ngJRwyuM8Y5DM1etK9r-fletcQYs0Y_w87C_b7UPGeIvRpi9BIc-QTy8E-tnRbn84Mi8tf_mFMtCXsoKtvp4vwjOktL2_rKUB5Wl6A4UvLZdMM0nZKE53tlArWWqouu06tklWFnUDD9osPsMPIMXgmbe7WwEZRnYaUEnRrB4E1aSAohJeazP5b3wBJgE9KlgWpMJARIa87E9Fb0N5Jxq_ohRQg8hv1D64yaCr3JycKINTpzx_GFyFsUqi36fgL8V1yJxaouRTFMxi0rh2owpKI8BGkKQ_xWeCvMViMaCB78BINFQ2uFj5Iw_QbMUd18qFayqKFXWBxfOtVRlLlk4nfAHK5BVDLl_k0ud4awzcha_9oyNdXQmjBbkumXai5aPO1m2mK8zKpnAgErvDtyZWvHRn-34skZdzhWs_QLon-CE6Ob2R0m3uAq63YLhUjdAcu_CZAz-W3Jvcz2dqCQAwdXJyvXL6NTDQze2ZpS7_zGvSlv8n2EnMaCAU6-8PBYBAq7lwb87EZfOwFrjUU5yiFTMe_YLd2VwggZNq2iWOlJeJhWhJnUr1LT3n68UIMXoF0P1FtNJlfqOQ1BNo-B4pvieMnZUN9yCdrwMxP1cOC5GGIE78-SPHjp6_atjOagVh3fk6EHenjQhvIGkN9ZCO5rRKzwT2jxHMArYFH81j9f5DBToBo82fbtAy_wE9shxKLZFN8VLRiS0iLUs-_WOwgodqOKE_vudQWNCXrN_0kRMXdu0GrhAxwkO-bsd8ussFSRJLoOvn9DDmVZXaP3FOEoGMKScOnfmDN3im5dmisf065BaeHJc85T35OgPBxx8t4proQZdnBoGpTkCDzRjTe11LthtTtuWjtxA&__tn__=C-R&paipv=0',\n",
       "  'is_live': False,\n",
       "  'factcheck': None,\n",
       "  'shared_post_id': None,\n",
       "  'shared_time': None,\n",
       "  'shared_user_id': None,\n",
       "  'shared_username': None,\n",
       "  'shared_post_url': None,\n",
       "  'available': True,\n",
       "  'comments_full': None,\n",
       "  'reactors': None,\n",
       "  'w3_fb_url': None,\n",
       "  'reactions': None,\n",
       "  'reaction_count': 26,\n",
       "  'with': None,\n",
       "  'page_id': '498656703675475',\n",
       "  'sharers': None,\n",
       "  'image_id': None,\n",
       "  'image_ids': [],\n",
       "  'video_ids': [],\n",
       "  'videos': [],\n",
       "  'was_live': False},\n",
       " 'Friend_count': None,\n",
       " 'Follower_count': None,\n",
       " 'Following_count': None,\n",
       " 'cover_photo_text': \"Cover Photo: Revenue & Disaster Management Department, Government of Odisha's photo.\",\n",
       " 'cover_photo': 'https://scontent.fdel15-1.fna.fbcdn.net/v/t39.30808-6/278841133_302952675345479_2280101371253392472_n.jpg?stp=cp0_dst-jpg_e15_fr_q65&_nc_cat=101&ccb=1-7&_nc_sid=649c01&efg=eyJpIjoidCJ9&_nc_ohc=JUdcPiMa-NkAX9pjtPY&_nc_ht=scontent.fdel15-1.fna&oh=00_AfDXzB95D7w0XCcR1b7Su2SHIE1SifuklZBz3Xi8QSg_4Q&oe=64F5E674&manual_redirect=1',\n",
       " 'profile_picture': 'https://scontent.fdel15-1.fna.fbcdn.net/v/t39.30808-6/279045248_302952672012146_8918569526235762009_n.jpg?stp=cp0_dst-jpg_e15_fr_q65&_nc_cat=109&ccb=1-7&_nc_sid=f033b4&efg=eyJpIjoidCJ9&_nc_ohc=IufkcBZmxNoAX8635A3&_nc_ht=scontent.fdel15-1.fna&oh=00_AfC-Ey_Ffx5rElRIkQQ3LvoRkTaXvsWbu8do9OLbwuFb5g&oe=64F72B91&manual_redirect=1',\n",
       " 'id': '100068922471248',\n",
       " 'Name': 'Revenue & Disaster Management Department, Government of Odisha',\n",
       " 'Category': 'Government organisation',\n",
       " 'Contact Info': {'Address': 'Secretariat, Bhubaneswar, India, 751001',\n",
       "  'Facebook': '/RevenueDepartmentOdisha'},\n",
       " 'Basic info': 'Date of birth',\n",
       " 'Page transparency\\nSee all': 'See all\\nFacebook is showing information to help you understand the purpose of this Page.\\n498656703675475\\nPage ID\\n27 May 2016\\nCreation date\\nAdmin info\\nThis Page can have multiple admins. They may have permission to post content, comment or send messages as the Page.\\nThis Page is not currently running ads.',\n",
       " 'Life events': ''}"
      ]
     },
     "execution_count": 2,
     "metadata": {},
     "output_type": "execute_result"
    }
   ],
   "source": [
    "get_profile(\"RevenueDepartmentOdisha\", cookies=\"cookies.txt\")"
   ]
  },
  {
   "cell_type": "code",
   "execution_count": 5,
   "metadata": {},
   "outputs": [
    {
     "name": "stdout",
     "output_type": "stream",
     "text": [
      "CCMS version 2.0 under #5T has been commissioned b\n",
      "2023-07-04 19:45:45\n",
      "Hon'ble CM reviewed Revenue & DM Department and ap\n",
      "2023-05-31 11:11:47\n",
      "DLR&S, Odisha visited Kalahandi and reviewed the p\n",
      "2023-05-26 16:28:11\n"
     ]
    },
    {
     "ename": "KeyboardInterrupt",
     "evalue": "",
     "output_type": "error",
     "traceback": [
      "\u001b[1;31m---------------------------------------------------------------------------\u001b[0m",
      "\u001b[1;31mKeyboardInterrupt\u001b[0m                         Traceback (most recent call last)",
      "\u001b[1;32mc:\\Users\\Zahir\\Desktop\\Github\\facebook-scrape\\scraper.ipynb Cell 3\u001b[0m in \u001b[0;36m<cell line: 5>\u001b[1;34m()\u001b[0m\n\u001b[0;32m      <a href='vscode-notebook-cell:/c%3A/Users/Zahir/Desktop/Github/facebook-scrape/scraper.ipynb#W5sZmlsZQ%3D%3D?line=1'>2</a>\u001b[0m warnings\u001b[39m.\u001b[39mfilterwarnings(\u001b[39m'\u001b[39m\u001b[39mignore\u001b[39m\u001b[39m'\u001b[39m)\n\u001b[0;32m      <a href='vscode-notebook-cell:/c%3A/Users/Zahir/Desktop/Github/facebook-scrape/scraper.ipynb#W5sZmlsZQ%3D%3D?line=3'>4</a>\u001b[0m listposts \u001b[39m=\u001b[39m []\n\u001b[1;32m----> <a href='vscode-notebook-cell:/c%3A/Users/Zahir/Desktop/Github/facebook-scrape/scraper.ipynb#W5sZmlsZQ%3D%3D?line=4'>5</a>\u001b[0m \u001b[39mfor\u001b[39;00m post \u001b[39min\u001b[39;00m get_posts(\u001b[39m\"\u001b[39m\u001b[39mRevenueDepartmentOdisha\u001b[39m\u001b[39m\"\u001b[39m):\n\u001b[0;32m      <a href='vscode-notebook-cell:/c%3A/Users/Zahir/Desktop/Github/facebook-scrape/scraper.ipynb#W5sZmlsZQ%3D%3D?line=5'>6</a>\u001b[0m     \u001b[39mprint\u001b[39m(post[\u001b[39m'\u001b[39m\u001b[39mtext\u001b[39m\u001b[39m'\u001b[39m][:\u001b[39m50\u001b[39m])\n\u001b[0;32m      <a href='vscode-notebook-cell:/c%3A/Users/Zahir/Desktop/Github/facebook-scrape/scraper.ipynb#W5sZmlsZQ%3D%3D?line=6'>7</a>\u001b[0m     \u001b[39mprint\u001b[39m(post[\u001b[39m'\u001b[39m\u001b[39mtime\u001b[39m\u001b[39m'\u001b[39m])\n",
      "File \u001b[1;32mc:\\Users\\Zahir\\AppData\\Local\\Programs\\Python\\Python38\\lib\\site-packages\\facebook_scraper\\facebook_scraper.py:1117\u001b[0m, in \u001b[0;36mFacebookScraper._generic_get_posts\u001b[1;34m(self, extract_post_fn, iter_pages_fn, page_limit, options, remove_source, latest_date, max_past_limit, **kwargs)\u001b[0m\n\u001b[0;32m   1115\u001b[0m logger\u001b[39m.\u001b[39mdebug(\u001b[39m\"\u001b[39m\u001b[39mExtracting posts from page \u001b[39m\u001b[39m%s\u001b[39;00m\u001b[39m\"\u001b[39m, i)\n\u001b[0;32m   1116\u001b[0m \u001b[39mfor\u001b[39;00m post_element \u001b[39min\u001b[39;00m page:\n\u001b[1;32m-> 1117\u001b[0m     post \u001b[39m=\u001b[39m extract_post_fn(post_element, options\u001b[39m=\u001b[39;49moptions, request_fn\u001b[39m=\u001b[39;49m\u001b[39mself\u001b[39;49m\u001b[39m.\u001b[39;49mget)\n\u001b[0;32m   1118\u001b[0m     \u001b[39mif\u001b[39;00m remove_source:\n\u001b[0;32m   1119\u001b[0m         post\u001b[39m.\u001b[39mpop(\u001b[39m'\u001b[39m\u001b[39msource\u001b[39m\u001b[39m'\u001b[39m, \u001b[39mNone\u001b[39;00m)\n",
      "File \u001b[1;32mc:\\Users\\Zahir\\AppData\\Local\\Programs\\Python\\Python38\\lib\\site-packages\\facebook_scraper\\extractors.py:33\u001b[0m, in \u001b[0;36mextract_post\u001b[1;34m(raw_post, options, request_fn, full_post_html)\u001b[0m\n\u001b[0;32m     30\u001b[0m \u001b[39mdef\u001b[39;00m \u001b[39mextract_post\u001b[39m(\n\u001b[0;32m     31\u001b[0m     raw_post: RawPost, options: Options, request_fn: RequestFunction, full_post_html\u001b[39m=\u001b[39m\u001b[39mNone\u001b[39;00m\n\u001b[0;32m     32\u001b[0m ) \u001b[39m-\u001b[39m\u001b[39m>\u001b[39m Post:\n\u001b[1;32m---> 33\u001b[0m     \u001b[39mreturn\u001b[39;00m PostExtractor(raw_post, options, request_fn, full_post_html)\u001b[39m.\u001b[39;49mextract_post()\n",
      "File \u001b[1;32mc:\\Users\\Zahir\\AppData\\Local\\Programs\\Python\\Python38\\lib\\site-packages\\facebook_scraper\\extractors.py:193\u001b[0m, in \u001b[0;36mPostExtractor.extract_post\u001b[1;34m(self)\u001b[0m\n\u001b[0;32m    191\u001b[0m \u001b[39mfor\u001b[39;00m method \u001b[39min\u001b[39;00m methods:\n\u001b[0;32m    192\u001b[0m     \u001b[39mtry\u001b[39;00m:\n\u001b[1;32m--> 193\u001b[0m         partial_post \u001b[39m=\u001b[39m method()\n\u001b[0;32m    194\u001b[0m         \u001b[39mif\u001b[39;00m partial_post \u001b[39mis\u001b[39;00m \u001b[39mNone\u001b[39;00m:\n\u001b[0;32m    195\u001b[0m             log_warning(\u001b[39m\"\u001b[39m\u001b[39mExtract method \u001b[39m\u001b[39m%s\u001b[39;00m\u001b[39m didn\u001b[39m\u001b[39m'\u001b[39m\u001b[39mt return anything\u001b[39m\u001b[39m\"\u001b[39m, method\u001b[39m.\u001b[39m\u001b[39m__name__\u001b[39m)\n",
      "File \u001b[1;32mc:\\Users\\Zahir\\AppData\\Local\\Programs\\Python\\Python38\\lib\\site-packages\\facebook_scraper\\extractors.py:599\u001b[0m, in \u001b[0;36mPostExtractor.extract_photo_link\u001b[1;34m(self)\u001b[0m\n\u001b[0;32m    597\u001b[0m logger\u001b[39m.\u001b[39mdebug(\u001b[39mf\u001b[39m\u001b[39m\"\u001b[39m\u001b[39mFetching \u001b[39m\u001b[39m{\u001b[39;00murl\u001b[39m}\u001b[39;00m\u001b[39m\"\u001b[39m)\n\u001b[0;32m    598\u001b[0m \u001b[39mtry\u001b[39;00m:\n\u001b[1;32m--> 599\u001b[0m     response \u001b[39m=\u001b[39m \u001b[39mself\u001b[39;49m\u001b[39m.\u001b[39;49mrequest(url)\n\u001b[0;32m    600\u001b[0m     images\u001b[39m.\u001b[39mappend(\u001b[39mself\u001b[39m\u001b[39m.\u001b[39mextract_photo_link_HQ(response\u001b[39m.\u001b[39mtext))\n\u001b[0;32m    601\u001b[0m     elem \u001b[39m=\u001b[39m response\u001b[39m.\u001b[39mhtml\u001b[39m.\u001b[39mfind(\u001b[39m\"\u001b[39m\u001b[39m.img[data-sigil=\u001b[39m\u001b[39m'\u001b[39m\u001b[39mphoto-image\u001b[39m\u001b[39m'\u001b[39m\u001b[39m]\u001b[39m\u001b[39m\"\u001b[39m, first\u001b[39m=\u001b[39m\u001b[39mTrue\u001b[39;00m)\n",
      "File \u001b[1;32mc:\\Users\\Zahir\\AppData\\Local\\Programs\\Python\\Python38\\lib\\site-packages\\facebook_scraper\\facebook_scraper.py:871\u001b[0m, in \u001b[0;36mFacebookScraper.get\u001b[1;34m(self, url, **kwargs)\u001b[0m\n\u001b[0;32m    869\u001b[0m     response \u001b[39m=\u001b[39m \u001b[39mself\u001b[39m\u001b[39m.\u001b[39msession\u001b[39m.\u001b[39mpost(url\u001b[39m=\u001b[39murl, \u001b[39m*\u001b[39m\u001b[39m*\u001b[39mkwargs)\n\u001b[0;32m    870\u001b[0m \u001b[39melse\u001b[39;00m:\n\u001b[1;32m--> 871\u001b[0m     response \u001b[39m=\u001b[39m \u001b[39mself\u001b[39;49m\u001b[39m.\u001b[39;49msession\u001b[39m.\u001b[39;49mget(url\u001b[39m=\u001b[39;49murl, \u001b[39m*\u001b[39;49m\u001b[39m*\u001b[39;49m\u001b[39mself\u001b[39;49m\u001b[39m.\u001b[39;49mrequests_kwargs, \u001b[39m*\u001b[39;49m\u001b[39m*\u001b[39;49mkwargs)\n\u001b[0;32m    872\u001b[0m DEBUG \u001b[39m=\u001b[39m \u001b[39mFalse\u001b[39;00m\n\u001b[0;32m    873\u001b[0m \u001b[39mif\u001b[39;00m DEBUG:\n",
      "File \u001b[1;32mc:\\Users\\Zahir\\AppData\\Local\\Programs\\Python\\Python38\\lib\\site-packages\\requests\\sessions.py:600\u001b[0m, in \u001b[0;36mSession.get\u001b[1;34m(self, url, **kwargs)\u001b[0m\n\u001b[0;32m    592\u001b[0m \u001b[39mr\u001b[39m\u001b[39m\"\"\"Sends a GET request. Returns :class:`Response` object.\u001b[39;00m\n\u001b[0;32m    593\u001b[0m \n\u001b[0;32m    594\u001b[0m \u001b[39m:param url: URL for the new :class:`Request` object.\u001b[39;00m\n\u001b[0;32m    595\u001b[0m \u001b[39m:param \\*\\*kwargs: Optional arguments that ``request`` takes.\u001b[39;00m\n\u001b[0;32m    596\u001b[0m \u001b[39m:rtype: requests.Response\u001b[39;00m\n\u001b[0;32m    597\u001b[0m \u001b[39m\"\"\"\u001b[39;00m\n\u001b[0;32m    599\u001b[0m kwargs\u001b[39m.\u001b[39msetdefault(\u001b[39m\"\u001b[39m\u001b[39mallow_redirects\u001b[39m\u001b[39m\"\u001b[39m, \u001b[39mTrue\u001b[39;00m)\n\u001b[1;32m--> 600\u001b[0m \u001b[39mreturn\u001b[39;00m \u001b[39mself\u001b[39;49m\u001b[39m.\u001b[39;49mrequest(\u001b[39m\"\u001b[39;49m\u001b[39mGET\u001b[39;49m\u001b[39m\"\u001b[39;49m, url, \u001b[39m*\u001b[39;49m\u001b[39m*\u001b[39;49mkwargs)\n",
      "File \u001b[1;32mc:\\Users\\Zahir\\AppData\\Local\\Programs\\Python\\Python38\\lib\\site-packages\\requests\\sessions.py:587\u001b[0m, in \u001b[0;36mSession.request\u001b[1;34m(self, method, url, params, data, headers, cookies, files, auth, timeout, allow_redirects, proxies, hooks, stream, verify, cert, json)\u001b[0m\n\u001b[0;32m    582\u001b[0m send_kwargs \u001b[39m=\u001b[39m {\n\u001b[0;32m    583\u001b[0m     \u001b[39m\"\u001b[39m\u001b[39mtimeout\u001b[39m\u001b[39m\"\u001b[39m: timeout,\n\u001b[0;32m    584\u001b[0m     \u001b[39m\"\u001b[39m\u001b[39mallow_redirects\u001b[39m\u001b[39m\"\u001b[39m: allow_redirects,\n\u001b[0;32m    585\u001b[0m }\n\u001b[0;32m    586\u001b[0m send_kwargs\u001b[39m.\u001b[39mupdate(settings)\n\u001b[1;32m--> 587\u001b[0m resp \u001b[39m=\u001b[39m \u001b[39mself\u001b[39;49m\u001b[39m.\u001b[39;49msend(prep, \u001b[39m*\u001b[39;49m\u001b[39m*\u001b[39;49msend_kwargs)\n\u001b[0;32m    589\u001b[0m \u001b[39mreturn\u001b[39;00m resp\n",
      "File \u001b[1;32mc:\\Users\\Zahir\\AppData\\Local\\Programs\\Python\\Python38\\lib\\site-packages\\requests\\sessions.py:701\u001b[0m, in \u001b[0;36mSession.send\u001b[1;34m(self, request, **kwargs)\u001b[0m\n\u001b[0;32m    698\u001b[0m start \u001b[39m=\u001b[39m preferred_clock()\n\u001b[0;32m    700\u001b[0m \u001b[39m# Send the request\u001b[39;00m\n\u001b[1;32m--> 701\u001b[0m r \u001b[39m=\u001b[39m adapter\u001b[39m.\u001b[39;49msend(request, \u001b[39m*\u001b[39;49m\u001b[39m*\u001b[39;49mkwargs)\n\u001b[0;32m    703\u001b[0m \u001b[39m# Total elapsed time of the request (approximately)\u001b[39;00m\n\u001b[0;32m    704\u001b[0m elapsed \u001b[39m=\u001b[39m preferred_clock() \u001b[39m-\u001b[39m start\n",
      "File \u001b[1;32mc:\\Users\\Zahir\\AppData\\Local\\Programs\\Python\\Python38\\lib\\site-packages\\requests\\adapters.py:489\u001b[0m, in \u001b[0;36mHTTPAdapter.send\u001b[1;34m(self, request, stream, timeout, verify, cert, proxies)\u001b[0m\n\u001b[0;32m    487\u001b[0m \u001b[39mtry\u001b[39;00m:\n\u001b[0;32m    488\u001b[0m     \u001b[39mif\u001b[39;00m \u001b[39mnot\u001b[39;00m chunked:\n\u001b[1;32m--> 489\u001b[0m         resp \u001b[39m=\u001b[39m conn\u001b[39m.\u001b[39;49murlopen(\n\u001b[0;32m    490\u001b[0m             method\u001b[39m=\u001b[39;49mrequest\u001b[39m.\u001b[39;49mmethod,\n\u001b[0;32m    491\u001b[0m             url\u001b[39m=\u001b[39;49murl,\n\u001b[0;32m    492\u001b[0m             body\u001b[39m=\u001b[39;49mrequest\u001b[39m.\u001b[39;49mbody,\n\u001b[0;32m    493\u001b[0m             headers\u001b[39m=\u001b[39;49mrequest\u001b[39m.\u001b[39;49mheaders,\n\u001b[0;32m    494\u001b[0m             redirect\u001b[39m=\u001b[39;49m\u001b[39mFalse\u001b[39;49;00m,\n\u001b[0;32m    495\u001b[0m             assert_same_host\u001b[39m=\u001b[39;49m\u001b[39mFalse\u001b[39;49;00m,\n\u001b[0;32m    496\u001b[0m             preload_content\u001b[39m=\u001b[39;49m\u001b[39mFalse\u001b[39;49;00m,\n\u001b[0;32m    497\u001b[0m             decode_content\u001b[39m=\u001b[39;49m\u001b[39mFalse\u001b[39;49;00m,\n\u001b[0;32m    498\u001b[0m             retries\u001b[39m=\u001b[39;49m\u001b[39mself\u001b[39;49m\u001b[39m.\u001b[39;49mmax_retries,\n\u001b[0;32m    499\u001b[0m             timeout\u001b[39m=\u001b[39;49mtimeout,\n\u001b[0;32m    500\u001b[0m         )\n\u001b[0;32m    502\u001b[0m     \u001b[39m# Send the request.\u001b[39;00m\n\u001b[0;32m    503\u001b[0m     \u001b[39melse\u001b[39;00m:\n\u001b[0;32m    504\u001b[0m         \u001b[39mif\u001b[39;00m \u001b[39mhasattr\u001b[39m(conn, \u001b[39m\"\u001b[39m\u001b[39mproxy_pool\u001b[39m\u001b[39m\"\u001b[39m):\n",
      "File \u001b[1;32mc:\\Users\\Zahir\\AppData\\Local\\Programs\\Python\\Python38\\lib\\site-packages\\urllib3\\connectionpool.py:703\u001b[0m, in \u001b[0;36mHTTPConnectionPool.urlopen\u001b[1;34m(self, method, url, body, headers, retries, redirect, assert_same_host, timeout, pool_timeout, release_conn, chunked, body_pos, **response_kw)\u001b[0m\n\u001b[0;32m    700\u001b[0m     \u001b[39mself\u001b[39m\u001b[39m.\u001b[39m_prepare_proxy(conn)\n\u001b[0;32m    702\u001b[0m \u001b[39m# Make the request on the httplib connection object.\u001b[39;00m\n\u001b[1;32m--> 703\u001b[0m httplib_response \u001b[39m=\u001b[39m \u001b[39mself\u001b[39;49m\u001b[39m.\u001b[39;49m_make_request(\n\u001b[0;32m    704\u001b[0m     conn,\n\u001b[0;32m    705\u001b[0m     method,\n\u001b[0;32m    706\u001b[0m     url,\n\u001b[0;32m    707\u001b[0m     timeout\u001b[39m=\u001b[39;49mtimeout_obj,\n\u001b[0;32m    708\u001b[0m     body\u001b[39m=\u001b[39;49mbody,\n\u001b[0;32m    709\u001b[0m     headers\u001b[39m=\u001b[39;49mheaders,\n\u001b[0;32m    710\u001b[0m     chunked\u001b[39m=\u001b[39;49mchunked,\n\u001b[0;32m    711\u001b[0m )\n\u001b[0;32m    713\u001b[0m \u001b[39m# If we're going to release the connection in ``finally:``, then\u001b[39;00m\n\u001b[0;32m    714\u001b[0m \u001b[39m# the response doesn't need to know about the connection. Otherwise\u001b[39;00m\n\u001b[0;32m    715\u001b[0m \u001b[39m# it will also try to release it and we'll have a double-release\u001b[39;00m\n\u001b[0;32m    716\u001b[0m \u001b[39m# mess.\u001b[39;00m\n\u001b[0;32m    717\u001b[0m response_conn \u001b[39m=\u001b[39m conn \u001b[39mif\u001b[39;00m \u001b[39mnot\u001b[39;00m release_conn \u001b[39melse\u001b[39;00m \u001b[39mNone\u001b[39;00m\n",
      "File \u001b[1;32mc:\\Users\\Zahir\\AppData\\Local\\Programs\\Python\\Python38\\lib\\site-packages\\urllib3\\connectionpool.py:449\u001b[0m, in \u001b[0;36mHTTPConnectionPool._make_request\u001b[1;34m(self, conn, method, url, timeout, chunked, **httplib_request_kw)\u001b[0m\n\u001b[0;32m    444\u001b[0m             httplib_response \u001b[39m=\u001b[39m conn\u001b[39m.\u001b[39mgetresponse()\n\u001b[0;32m    445\u001b[0m         \u001b[39mexcept\u001b[39;00m \u001b[39mBaseException\u001b[39;00m \u001b[39mas\u001b[39;00m e:\n\u001b[0;32m    446\u001b[0m             \u001b[39m# Remove the TypeError from the exception chain in\u001b[39;00m\n\u001b[0;32m    447\u001b[0m             \u001b[39m# Python 3 (including for exceptions like SystemExit).\u001b[39;00m\n\u001b[0;32m    448\u001b[0m             \u001b[39m# Otherwise it looks like a bug in the code.\u001b[39;00m\n\u001b[1;32m--> 449\u001b[0m             six\u001b[39m.\u001b[39;49mraise_from(e, \u001b[39mNone\u001b[39;49;00m)\n\u001b[0;32m    450\u001b[0m \u001b[39mexcept\u001b[39;00m (SocketTimeout, BaseSSLError, SocketError) \u001b[39mas\u001b[39;00m e:\n\u001b[0;32m    451\u001b[0m     \u001b[39mself\u001b[39m\u001b[39m.\u001b[39m_raise_timeout(err\u001b[39m=\u001b[39me, url\u001b[39m=\u001b[39murl, timeout_value\u001b[39m=\u001b[39mread_timeout)\n",
      "File \u001b[1;32m<string>:3\u001b[0m, in \u001b[0;36mraise_from\u001b[1;34m(value, from_value)\u001b[0m\n",
      "File \u001b[1;32mc:\\Users\\Zahir\\AppData\\Local\\Programs\\Python\\Python38\\lib\\site-packages\\urllib3\\connectionpool.py:444\u001b[0m, in \u001b[0;36mHTTPConnectionPool._make_request\u001b[1;34m(self, conn, method, url, timeout, chunked, **httplib_request_kw)\u001b[0m\n\u001b[0;32m    441\u001b[0m \u001b[39mexcept\u001b[39;00m \u001b[39mTypeError\u001b[39;00m:\n\u001b[0;32m    442\u001b[0m     \u001b[39m# Python 3\u001b[39;00m\n\u001b[0;32m    443\u001b[0m     \u001b[39mtry\u001b[39;00m:\n\u001b[1;32m--> 444\u001b[0m         httplib_response \u001b[39m=\u001b[39m conn\u001b[39m.\u001b[39;49mgetresponse()\n\u001b[0;32m    445\u001b[0m     \u001b[39mexcept\u001b[39;00m \u001b[39mBaseException\u001b[39;00m \u001b[39mas\u001b[39;00m e:\n\u001b[0;32m    446\u001b[0m         \u001b[39m# Remove the TypeError from the exception chain in\u001b[39;00m\n\u001b[0;32m    447\u001b[0m         \u001b[39m# Python 3 (including for exceptions like SystemExit).\u001b[39;00m\n\u001b[0;32m    448\u001b[0m         \u001b[39m# Otherwise it looks like a bug in the code.\u001b[39;00m\n\u001b[0;32m    449\u001b[0m         six\u001b[39m.\u001b[39mraise_from(e, \u001b[39mNone\u001b[39;00m)\n",
      "File \u001b[1;32mc:\\Users\\Zahir\\AppData\\Local\\Programs\\Python\\Python38\\lib\\http\\client.py:1332\u001b[0m, in \u001b[0;36mHTTPConnection.getresponse\u001b[1;34m(self)\u001b[0m\n\u001b[0;32m   1330\u001b[0m \u001b[39mtry\u001b[39;00m:\n\u001b[0;32m   1331\u001b[0m     \u001b[39mtry\u001b[39;00m:\n\u001b[1;32m-> 1332\u001b[0m         response\u001b[39m.\u001b[39;49mbegin()\n\u001b[0;32m   1333\u001b[0m     \u001b[39mexcept\u001b[39;00m \u001b[39mConnectionError\u001b[39;00m:\n\u001b[0;32m   1334\u001b[0m         \u001b[39mself\u001b[39m\u001b[39m.\u001b[39mclose()\n",
      "File \u001b[1;32mc:\\Users\\Zahir\\AppData\\Local\\Programs\\Python\\Python38\\lib\\http\\client.py:303\u001b[0m, in \u001b[0;36mHTTPResponse.begin\u001b[1;34m(self)\u001b[0m\n\u001b[0;32m    301\u001b[0m \u001b[39m# read until we get a non-100 response\u001b[39;00m\n\u001b[0;32m    302\u001b[0m \u001b[39mwhile\u001b[39;00m \u001b[39mTrue\u001b[39;00m:\n\u001b[1;32m--> 303\u001b[0m     version, status, reason \u001b[39m=\u001b[39m \u001b[39mself\u001b[39;49m\u001b[39m.\u001b[39;49m_read_status()\n\u001b[0;32m    304\u001b[0m     \u001b[39mif\u001b[39;00m status \u001b[39m!=\u001b[39m CONTINUE:\n\u001b[0;32m    305\u001b[0m         \u001b[39mbreak\u001b[39;00m\n",
      "File \u001b[1;32mc:\\Users\\Zahir\\AppData\\Local\\Programs\\Python\\Python38\\lib\\http\\client.py:264\u001b[0m, in \u001b[0;36mHTTPResponse._read_status\u001b[1;34m(self)\u001b[0m\n\u001b[0;32m    263\u001b[0m \u001b[39mdef\u001b[39;00m \u001b[39m_read_status\u001b[39m(\u001b[39mself\u001b[39m):\n\u001b[1;32m--> 264\u001b[0m     line \u001b[39m=\u001b[39m \u001b[39mstr\u001b[39m(\u001b[39mself\u001b[39;49m\u001b[39m.\u001b[39;49mfp\u001b[39m.\u001b[39;49mreadline(_MAXLINE \u001b[39m+\u001b[39;49m \u001b[39m1\u001b[39;49m), \u001b[39m\"\u001b[39m\u001b[39miso-8859-1\u001b[39m\u001b[39m\"\u001b[39m)\n\u001b[0;32m    265\u001b[0m     \u001b[39mif\u001b[39;00m \u001b[39mlen\u001b[39m(line) \u001b[39m>\u001b[39m _MAXLINE:\n\u001b[0;32m    266\u001b[0m         \u001b[39mraise\u001b[39;00m LineTooLong(\u001b[39m\"\u001b[39m\u001b[39mstatus line\u001b[39m\u001b[39m\"\u001b[39m)\n",
      "File \u001b[1;32mc:\\Users\\Zahir\\AppData\\Local\\Programs\\Python\\Python38\\lib\\socket.py:669\u001b[0m, in \u001b[0;36mSocketIO.readinto\u001b[1;34m(self, b)\u001b[0m\n\u001b[0;32m    667\u001b[0m \u001b[39mwhile\u001b[39;00m \u001b[39mTrue\u001b[39;00m:\n\u001b[0;32m    668\u001b[0m     \u001b[39mtry\u001b[39;00m:\n\u001b[1;32m--> 669\u001b[0m         \u001b[39mreturn\u001b[39;00m \u001b[39mself\u001b[39;49m\u001b[39m.\u001b[39;49m_sock\u001b[39m.\u001b[39;49mrecv_into(b)\n\u001b[0;32m    670\u001b[0m     \u001b[39mexcept\u001b[39;00m timeout:\n\u001b[0;32m    671\u001b[0m         \u001b[39mself\u001b[39m\u001b[39m.\u001b[39m_timeout_occurred \u001b[39m=\u001b[39m \u001b[39mTrue\u001b[39;00m\n",
      "File \u001b[1;32mc:\\Users\\Zahir\\AppData\\Local\\Programs\\Python\\Python38\\lib\\ssl.py:1241\u001b[0m, in \u001b[0;36mSSLSocket.recv_into\u001b[1;34m(self, buffer, nbytes, flags)\u001b[0m\n\u001b[0;32m   1237\u001b[0m     \u001b[39mif\u001b[39;00m flags \u001b[39m!=\u001b[39m \u001b[39m0\u001b[39m:\n\u001b[0;32m   1238\u001b[0m         \u001b[39mraise\u001b[39;00m \u001b[39mValueError\u001b[39;00m(\n\u001b[0;32m   1239\u001b[0m           \u001b[39m\"\u001b[39m\u001b[39mnon-zero flags not allowed in calls to recv_into() on \u001b[39m\u001b[39m%s\u001b[39;00m\u001b[39m\"\u001b[39m \u001b[39m%\u001b[39m\n\u001b[0;32m   1240\u001b[0m           \u001b[39mself\u001b[39m\u001b[39m.\u001b[39m\u001b[39m__class__\u001b[39m)\n\u001b[1;32m-> 1241\u001b[0m     \u001b[39mreturn\u001b[39;00m \u001b[39mself\u001b[39;49m\u001b[39m.\u001b[39;49mread(nbytes, buffer)\n\u001b[0;32m   1242\u001b[0m \u001b[39melse\u001b[39;00m:\n\u001b[0;32m   1243\u001b[0m     \u001b[39mreturn\u001b[39;00m \u001b[39msuper\u001b[39m()\u001b[39m.\u001b[39mrecv_into(buffer, nbytes, flags)\n",
      "File \u001b[1;32mc:\\Users\\Zahir\\AppData\\Local\\Programs\\Python\\Python38\\lib\\ssl.py:1099\u001b[0m, in \u001b[0;36mSSLSocket.read\u001b[1;34m(self, len, buffer)\u001b[0m\n\u001b[0;32m   1097\u001b[0m \u001b[39mtry\u001b[39;00m:\n\u001b[0;32m   1098\u001b[0m     \u001b[39mif\u001b[39;00m buffer \u001b[39mis\u001b[39;00m \u001b[39mnot\u001b[39;00m \u001b[39mNone\u001b[39;00m:\n\u001b[1;32m-> 1099\u001b[0m         \u001b[39mreturn\u001b[39;00m \u001b[39mself\u001b[39;49m\u001b[39m.\u001b[39;49m_sslobj\u001b[39m.\u001b[39;49mread(\u001b[39mlen\u001b[39;49m, buffer)\n\u001b[0;32m   1100\u001b[0m     \u001b[39melse\u001b[39;00m:\n\u001b[0;32m   1101\u001b[0m         \u001b[39mreturn\u001b[39;00m \u001b[39mself\u001b[39m\u001b[39m.\u001b[39m_sslobj\u001b[39m.\u001b[39mread(\u001b[39mlen\u001b[39m)\n",
      "\u001b[1;31mKeyboardInterrupt\u001b[0m: "
     ]
    }
   ],
   "source": [
    "import warnings\n",
    "warnings.filterwarnings('ignore')\n",
    "\n",
    "listposts = []\n",
    "for post in get_posts(\"RevenueDepartmentOdisha\"):\n",
    "    print(post['text'][:100])\n",
    "    print(post['time'])\n",
    "    listposts.append(post)\n",
    "    df = pd.DataFrame(listposts)\n",
    "    df.to_excel('output.xlsx', index=False)\n",
    "    "
   ]
  }
 ],
 "metadata": {
  "kernelspec": {
   "display_name": "Python 3",
   "language": "python",
   "name": "python3"
  },
  "language_info": {
   "codemirror_mode": {
    "name": "ipython",
    "version": 3
   },
   "file_extension": ".py",
   "mimetype": "text/x-python",
   "name": "python",
   "nbconvert_exporter": "python",
   "pygments_lexer": "ipython3",
   "version": "3.8.4"
  },
  "orig_nbformat": 4
 },
 "nbformat": 4,
 "nbformat_minor": 2
}
